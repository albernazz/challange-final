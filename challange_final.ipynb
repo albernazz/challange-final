{
  "nbformat": 4,
  "nbformat_minor": 0,
  "metadata": {
    "colab": {
      "provenance": [],
      "authorship_tag": "ABX9TyNicYTBWwo+USqj6+hPvdao",
      "include_colab_link": true
    },
    "kernelspec": {
      "name": "python3",
      "display_name": "Python 3"
    },
    "language_info": {
      "name": "python"
    }
  },
  "cells": [
    {
      "cell_type": "markdown",
      "metadata": {
        "id": "view-in-github",
        "colab_type": "text"
      },
      "source": [
        "<a href=\"https://colab.research.google.com/github/albernazz/challange-final/blob/main/challange_final.ipynb\" target=\"_parent\"><img src=\"https://colab.research.google.com/assets/colab-badge.svg\" alt=\"Open In Colab\"/></a>"
      ]
    },
    {
      "cell_type": "code",
      "execution_count": 1,
      "metadata": {
        "colab": {
          "base_uri": "https://localhost:8080/",
          "height": 106
        },
        "id": "81h2Fl-tOjo-",
        "outputId": "5f600e89-3caa-4a64-e361-7f3dd263214c"
      },
      "outputs": [
        {
          "output_type": "error",
          "ename": "IndentationError",
          "evalue": "expected an indented block after 'try' statement on line 15 (ipython-input-508792413.py, line 16)",
          "traceback": [
            "\u001b[0;36m  File \u001b[0;32m\"/tmp/ipython-input-508792413.py\"\u001b[0;36m, line \u001b[0;32m16\u001b[0m\n\u001b[0;31m    perm = permutation_importance(\u001b[0m\n\u001b[0m    ^\u001b[0m\n\u001b[0;31mIndentationError\u001b[0m\u001b[0;31m:\u001b[0m expected an indented block after 'try' statement on line 15\n"
          ]
        }
      ],
      "source": [
        "import pandas as pd\n",
        "ConfusionMatrixDisplay.from_predictions(y_test, y_pred)\n",
        "plt.title(f'Matriz de Confusão – {best_name}')\n",
        "plt.show()\n",
        "\n",
        "\n",
        "# =====================\n",
        "# 8) Importância de atributos (permutation importance)\n",
        "# =====================\n",
        "# Para obter nomes após OneHot, usamos o atributo get_feature_names_out\n",
        "prep = best_model.named_steps['prep']\n",
        "X_test_prep = prep.transform(X_test)\n",
        "\n",
        "\n",
        "try:\n",
        "perm = permutation_importance(\n",
        "best_model, X_test, y_test, n_repeats=10, random_state=42, n_jobs=-1\n",
        ")\n",
        "importances = perm.importances_mean\n",
        "# Nomes: num + one-hot\n",
        "feature_names = []\n",
        "if num_cols:\n",
        "feature_names += list(num_cols)\n",
        "if cat_cols:\n",
        "cat_names = best_model.named_steps['prep'].named_transformers_['cat'].get_feature_names_out(cat_cols)\n",
        "feature_names += list(cat_names)\n",
        "\n",
        "\n",
        "imp_df = pd.DataFrame({\n",
        "'feature': feature_names,\n",
        "'importance': importances\n",
        "}).sort_values('importance', ascending=False).head(20)\n",
        "\n",
        "\n",
        "print('\\nTop 20 features (permutation importance):')\n",
        "print(imp_df)\n",
        "\n",
        "\n",
        "imp_df.plot(kind='barh', x='feature', y='importance', legend=False)\n",
        "plt.gca().invert_yaxis()\n",
        "plt.title('Importância de Atributos (Permutation) – Top 20')\n",
        "plt.xlabel('Impacto na métrica')\n",
        "plt.ylabel('Atributo')\n",
        "plt.tight_layout()\n",
        "plt.show()\n",
        "except Exception as e:\n",
        "print('Falha ao calcular importâncias por permutação:', e)"
      ]
    }
  ]
}